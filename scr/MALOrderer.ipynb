{
 "cells": [
  {
   "metadata": {},
   "cell_type": "markdown",
   "source": [
    "# 🎌 MyAnimeList Orderer\n",
    "\n",
    "> **📚✨ Discover What to Watch or Read Next — Effortlessly! 🎥🌟**\n",
    "\n",
    "Are you overwhelmed by your ever-growing anime and manga backlog on **MyAnimeList**?\n",
    "Let this tool do the thinking for you! 🧠💡\n",
    "\n",
    "With just a few clicks, you can:\n",
    "- 🎯 **Sort** your list using smart filters and custom criteria\n",
    "- 📊 **Enrich** entries with ratings, rankings, and descriptions\n",
    "- 🌐 **Find** where to stream titles in your country via **JustWatch**\n",
    "- 💾 **Export** a clean, organized table to use or share\n",
    "\n",
    "No more endless scrolling — just clear, curated recommendations tailored to your preferences.\n",
    "Let’s make your next pick the right one! ✅\n",
    "\n"
   ],
   "id": "b6783fcfa59e1947"
  },
  {
   "metadata": {},
   "cell_type": "markdown",
   "source": [
    "## 📋 What Does This Notebook Do?\n",
    "\n",
    "This Jupyter notebook is designed to streamline your anime or manga decision-making process using data from **MyAnimeList** and **JustWatch**.\n",
    "\n",
    "---\n",
    "\n",
    "### 🔍 How It Works\n",
    "\n",
    "1. **Select a List Section**\n",
    "   You choose which part of your MyAnimeList to work with (e.g., \"Plan to Watch\", \"Watching\", \"Completed\").\n",
    "\n",
    "2. **Sort by Your Preferred Criteria**\n",
    "   The notebook organizes your anime or manga based on the sorting criteria you specify (e.g., score, popularity, number of episodes, etc.).\n",
    "\n",
    "3. **Data Enrichment via MyAnimeList API**\n",
    "   After sorting, the notebook queries the **MyAnimeList API v2** to enrich each entry with additional details such as:\n",
    "   - ✅ Title and description\n",
    "   - 🎬 Number of episodes or chapters\n",
    "   - 🔁 Whether it has sequels/prequels\n",
    "   - ⭐ User score and global ranking\n",
    "\n",
    "   📚 **API Reference**: [MyAnimeList API v2 Documentation](https://myanimelist.net/apiconfig/references/api/v2#section/)\n",
    "\n",
    "4. **Streaming Availability via JustWatch**\n",
    "   The notebook uses the **Simple JustWatch Python API** to fetch streaming information, showing where each title is available **in your country**.\n",
    "\n",
    "   📚 **Library Reference**: [simple-justwatch-python-api on PyPI](https://pypi.org/project/simple-justwatch-python-api/)\n",
    "\n",
    "---\n",
    "\n",
    "### 📊 Output\n",
    "\n",
    "You’ll get a clean, well-organized table with all this information, making it easier to choose what to watch or read next.\n"
   ],
   "id": "613ae76e92a277a7"
  },
  {
   "metadata": {},
   "cell_type": "markdown",
   "source": [
    "## 📦 Installing and Importing Dependencies\n",
    "\n",
    "By running the following cell, **all required libraries will be installed and imported automatically**.\n",
    "This ensures the notebook is ready to use without any manual setup.\n",
    "\n",
    "If you encounter any errors during the process, please install the dependencies manually using `pip`.\n",
    "\n",
    "### 📋 Required Dependencies\n",
    "\n",
    "- `os` *(standard library, no installation needed)*\n",
    "- `pandas`\n",
    "- `requests`\n",
    "- `simple-justwatch-python-api`"
   ],
   "id": "9e2db2e874c2b3d7"
  },
  {
   "metadata": {},
   "cell_type": "code",
   "source": [
    "#First, we need to import/install the required libraries\n",
    "import os\n",
    "!pip install pandas\n",
    "import pandas as pd\n",
    "!pip install requests\n",
    "import requests\n",
    "!pip install simple-justwatch-python-api\n",
    "from simplejustwatchapi.justwatch import search"
   ],
   "id": "2d163e10df3b983b",
   "outputs": [],
   "execution_count": null
  },
  {
   "metadata": {},
   "cell_type": "markdown",
   "source": [
    "## 🔑 Setting Up Your MyAnimeList API Key\n",
    "\n",
    "To access the MyAnimeList API, you need a **Client ID** (API key).\n",
    "In this notebook, we load it from your system's **environment variables** to keep your credentials secure.\n",
    "\n",
    "### 📥 How to Get Your API Key\n",
    "\n",
    "1. Go to the official MyAnimeList developer portal.\n",
    "2. Create an application.\n",
    "3. Copy your **Client ID**.\n",
    "\n",
    "📚 **Documentation**: [MyAnimeList API v2](https://myanimelist.net/apiconfig/references/api/v2#section/)\n",
    "\n",
    "---\n",
    "\n",
    "### ⚙️ Load the API Key in Python\n",
    "\n",
    "Make sure you've saved your `MAL_CLIENT_ID` as an environment variable.\n",
    "\n"
   ],
   "id": "39f8f067b37352a0"
  },
  {
   "metadata": {},
   "cell_type": "code",
   "source": [
    "import os\n",
    "\n",
    "# Load the MyAnimeList Client ID from environment variables\n",
    "MAL_API_KEY = os.getenv(\"MAL_API_KEY\")\n",
    "\n",
    "# Optional: show error if not set\n",
    "if not MAL_API_KEY:\n",
    "    raise ValueError(\"❌ MAL_CLIENT_ID not found. Please set it as an environment variable.\")\n"
   ],
   "id": "3eae887fefa66df6",
   "outputs": [],
   "execution_count": null
  },
  {
   "metadata": {},
   "cell_type": "markdown",
   "source": [
    "## 🌍 Setting the Search Country\n",
    "\n",
    "To check streaming availability using **JustWatch**, we need to specify the country where the search will be performed.\n",
    "\n",
    "This is done by setting a constant with the [two-letter country code (ISO 3166-1 alpha-2)](https://en.wikipedia.org/wiki/List_of_ISO_3166_country_codes).\n",
    "For example:\n",
    "- `US` → United States\n",
    "- `ES` → Spain\n",
    "- `JP` → Japan\n",
    "- `BR` → Brazil\n",
    "\n",
    "### ✏️ Set Your Country Code\n",
    "\n"
   ],
   "id": "e59d00d0c3c8f80a"
  },
  {
   "metadata": {},
   "cell_type": "code",
   "source": [
    "# Set your country code for JustWatch\n",
    "# Example: 'ES' for Spain\n",
    "COUNTRY = \"ES\""
   ],
   "id": "1bae8823ee558090",
   "outputs": [],
   "execution_count": null
  }
 ],
 "metadata": {
  "kernelspec": {
   "display_name": "Python 3",
   "language": "python",
   "name": "python3"
  },
  "language_info": {
   "codemirror_mode": {
    "name": "ipython",
    "version": 2
   },
   "file_extension": ".py",
   "mimetype": "text/x-python",
   "name": "python",
   "nbconvert_exporter": "python",
   "pygments_lexer": "ipython2",
   "version": "2.7.6"
  }
 },
 "nbformat": 4,
 "nbformat_minor": 5
}
